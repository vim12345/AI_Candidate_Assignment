{
 "cells": [
  {
   "cell_type": "code",
   "execution_count": 3,
   "id": "9011ed67-96bc-40b5-a75f-1108724727c8",
   "metadata": {},
   "outputs": [
    {
     "name": "stdout",
     "output_type": "stream",
     "text": [
      "Positive comments: 75.00%\n",
      "Negative comments: 25.00%\n"
     ]
    }
   ],
   "source": [
    "from textblob import TextBlob\n",
    "\n",
    "# Example comments (replace the '...' with valid comments)\n",
    "comments = [\n",
    "    \"I love this webtoon! It’s amazing.\",\n",
    "    \"This webtoon is boring and predictable.\",\n",
    "    \"The storyline is very engaging.\",\n",
    "    \"I didn't enjoy the latest chapter.\",\n",
    "]\n",
    "\n",
    "positive = 0\n",
    "negative = 0\n",
    "\n",
    "# Sentiment analysis\n",
    "for comment in comments:\n",
    "    blob = TextBlob(comment)\n",
    "    if blob.sentiment.polarity > 0:\n",
    "        positive += 1\n",
    "    else:\n",
    "        negative += 1\n",
    "\n",
    "total = positive + negative\n",
    "print(f\"Positive comments: {positive / total * 100:.2f}%\")\n",
    "print(f\"Negative comments: {negative / total * 100:.2f}%\")\n",
    "\n"
   ]
  },
  {
   "cell_type": "code",
   "execution_count": null,
   "id": "14fa8e4a-5115-49af-b009-37b8e0fad9dd",
   "metadata": {},
   "outputs": [],
   "source": []
  }
 ],
 "metadata": {
  "kernelspec": {
   "display_name": "Python 3 (ipykernel)",
   "language": "python",
   "name": "python3"
  },
  "language_info": {
   "codemirror_mode": {
    "name": "ipython",
    "version": 3
   },
   "file_extension": ".py",
   "mimetype": "text/x-python",
   "name": "python",
   "nbconvert_exporter": "python",
   "pygments_lexer": "ipython3",
   "version": "3.12.5"
  }
 },
 "nbformat": 4,
 "nbformat_minor": 5
}
