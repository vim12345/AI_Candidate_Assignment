{
 "cells": [
  {
   "cell_type": "code",
   "execution_count": null,
   "id": "996dda46-23a6-402c-ae97-1248479d87df",
   "metadata": {},
   "outputs": [],
   "source": [
    "import nltk\n",
    "from nltk.tokenize import word_tokenize\n",
    "\n",
    "# Predefined responses\n",
    "responses = {\n",
    "    \"about\": \"Castle Swimmer is about a young fish destined to be the guiding light for others.\",\n",
    "    \"characters\": \"The main characters are Kappa and Siren.\"\n",
    "}\n",
    "\n",
    "def chatbot_response(user_input):\n",
    "    tokens = word_tokenize(user_input.lower())\n",
    "    for word in tokens:\n",
    "        if word in responses:\n",
    "            return responses[word]\n",
    "    return \"Sorry, I don't understand your question.\"\n",
    "\n",
    "# Example interaction\n",
    "user_input = input(\"Ask the chatbot a question: \")\n",
    "print(chatbot_response(user_input))\n"
   ]
  },
  {
   "cell_type": "code",
   "execution_count": null,
   "id": "6e261e9f-05a0-4c85-934a-3634bbf532dd",
   "metadata": {},
   "outputs": [],
   "source": []
  }
 ],
 "metadata": {
  "kernelspec": {
   "display_name": "Python 3 (ipykernel)",
   "language": "python",
   "name": "python3"
  },
  "language_info": {
   "codemirror_mode": {
    "name": "ipython",
    "version": 3
   },
   "file_extension": ".py",
   "mimetype": "text/x-python",
   "name": "python",
   "nbconvert_exporter": "python",
   "pygments_lexer": "ipython3",
   "version": "3.12.5"
  }
 },
 "nbformat": 4,
 "nbformat_minor": 5
}
